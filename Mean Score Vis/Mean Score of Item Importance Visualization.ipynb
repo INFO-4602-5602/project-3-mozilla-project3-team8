{
 "cells": [
  {
   "cell_type": "code",
   "execution_count": 14,
   "metadata": {
    "collapsed": true
   },
   "outputs": [],
   "source": [
    "import numpy as np\n",
    "import pandas as pd\n",
    "import matplotlib.pylab as plt\n",
    "%matplotlib inline\n",
    "#import plotly.plotly as py\n",
    "import bokeh\n",
    "from bokeh.core.properties import value\n",
    "from bokeh.io import show, output_file\n",
    "from bokeh.models import ColumnDataSource, HoverTool, FactorRange\n",
    "from bokeh.plotting import figure\n",
    "from bokeh.palettes import Spectral5\n",
    "from bokeh.sampledata.autompg import autompg_clean as df\n",
    "from bokeh.transform import dodge"
   ]
  },
  {
   "cell_type": "code",
   "execution_count": 25,
   "metadata": {},
   "outputs": [
    {
     "name": "stderr",
     "output_type": "stream",
     "text": [
      "C:\\Users\\jamie_000\\Anaconda3\\lib\\site-packages\\IPython\\core\\interactiveshell.py:2698: DtypeWarning: Columns (1,2,3,4,5,6,7,9) have mixed types. Specify dtype option on import or set low_memory=False.\n",
      "  interactivity=interactivity, compiler=compiler, result=result)\n"
     ]
    },
    {
     "name": "stdout",
     "output_type": "stream",
     "text": [
      "<class 'pandas.core.frame.DataFrame'>\n",
      "RangeIndex: 192652 entries, 0 to 192651\n",
      "Data columns (total 10 columns):\n",
      "Price                                                                                                                                                                                                         150341 non-null object\n",
      "Features                                                                                                                                                                                                      146654 non-null object\n",
      "Safety:You're planning on buying your next cool new tech toy. Maybe it's a smart TV or a new smartphone. Take a look at the items below and arrange them in order of importance as you make that purchase.    136853 non-null object\n",
      "Security                                                                                                                                                                                                      139150 non-null object\n",
      "Privacy                                                                                                                                                                                                       140564 non-null object\n",
      "Reliability                                                                                                                                                                                                   143151 non-null object\n",
      "UserReviews                                                                                                                                                                                                   135224 non-null object\n",
      "ExpertRecommendation                                                                                                                                                                                          135497 non-null object\n",
      "FriendorFamilyRecommendation                                                                                                                                                                                  130863 non-null object\n",
      "Convenience                                                                                                                                                                                                   140105 non-null object\n",
      "dtypes: object(10)\n",
      "memory usage: 14.7+ MB\n"
     ]
    },
    {
     "ename": "AttributeError",
     "evalue": "'DataFrame' object has no attribute 'Safety'",
     "output_type": "error",
     "traceback": [
      "\u001b[1;31m---------------------------------------------------------------------------\u001b[0m",
      "\u001b[1;31mAttributeError\u001b[0m                            Traceback (most recent call last)",
      "\u001b[1;32m<ipython-input-25-447e6fe52e81>\u001b[0m in \u001b[0;36m<module>\u001b[1;34m()\u001b[0m\n\u001b[0;32m      5\u001b[0m \u001b[0mdf\u001b[0m\u001b[1;33m.\u001b[0m\u001b[0mPrice\u001b[0m \u001b[1;33m=\u001b[0m \u001b[0mpd\u001b[0m\u001b[1;33m.\u001b[0m\u001b[0mto_numeric\u001b[0m\u001b[1;33m(\u001b[0m\u001b[0mdf\u001b[0m\u001b[1;33m.\u001b[0m\u001b[0mPrice\u001b[0m\u001b[1;33m,\u001b[0m \u001b[0merrors\u001b[0m \u001b[1;33m=\u001b[0m \u001b[1;34m'coerce'\u001b[0m\u001b[1;33m)\u001b[0m\u001b[1;33m.\u001b[0m\u001b[0mfillna\u001b[0m\u001b[1;33m(\u001b[0m\u001b[1;36m0\u001b[0m\u001b[1;33m)\u001b[0m\u001b[1;33m.\u001b[0m\u001b[0mastype\u001b[0m\u001b[1;33m(\u001b[0m\u001b[0mnp\u001b[0m\u001b[1;33m.\u001b[0m\u001b[0mint64\u001b[0m\u001b[1;33m)\u001b[0m\u001b[1;33m\u001b[0m\u001b[0m\n\u001b[0;32m      6\u001b[0m \u001b[0mdf\u001b[0m\u001b[1;33m.\u001b[0m\u001b[0mFeatures\u001b[0m \u001b[1;33m=\u001b[0m \u001b[0mpd\u001b[0m\u001b[1;33m.\u001b[0m\u001b[0mto_numeric\u001b[0m\u001b[1;33m(\u001b[0m\u001b[0mdf\u001b[0m\u001b[1;33m.\u001b[0m\u001b[0mFeatures\u001b[0m\u001b[1;33m,\u001b[0m \u001b[0merrors\u001b[0m \u001b[1;33m=\u001b[0m \u001b[1;34m'coerce'\u001b[0m\u001b[1;33m)\u001b[0m\u001b[1;33m.\u001b[0m\u001b[0mfillna\u001b[0m\u001b[1;33m(\u001b[0m\u001b[1;36m0\u001b[0m\u001b[1;33m)\u001b[0m\u001b[1;33m.\u001b[0m\u001b[0mastype\u001b[0m\u001b[1;33m(\u001b[0m\u001b[0mnp\u001b[0m\u001b[1;33m.\u001b[0m\u001b[0mint64\u001b[0m\u001b[1;33m)\u001b[0m\u001b[1;33m\u001b[0m\u001b[0m\n\u001b[1;32m----> 7\u001b[1;33m \u001b[0mdf\u001b[0m\u001b[1;33m.\u001b[0m\u001b[0mSafety\u001b[0m \u001b[1;33m=\u001b[0m \u001b[0mpd\u001b[0m\u001b[1;33m.\u001b[0m\u001b[0mto_numeric\u001b[0m\u001b[1;33m(\u001b[0m\u001b[0mdf\u001b[0m\u001b[1;33m.\u001b[0m\u001b[0mSafety\u001b[0m\u001b[1;33m,\u001b[0m \u001b[0merrors\u001b[0m \u001b[1;33m=\u001b[0m \u001b[1;34m'coerce'\u001b[0m\u001b[1;33m)\u001b[0m\u001b[1;33m.\u001b[0m\u001b[0mfillna\u001b[0m\u001b[1;33m(\u001b[0m\u001b[1;36m0\u001b[0m\u001b[1;33m)\u001b[0m\u001b[1;33m.\u001b[0m\u001b[0mastype\u001b[0m\u001b[1;33m(\u001b[0m\u001b[0mnp\u001b[0m\u001b[1;33m.\u001b[0m\u001b[0mint64\u001b[0m\u001b[1;33m)\u001b[0m\u001b[1;33m\u001b[0m\u001b[0m\n\u001b[0m\u001b[0;32m      8\u001b[0m \u001b[0mdf\u001b[0m\u001b[1;33m.\u001b[0m\u001b[0mSecurity\u001b[0m \u001b[1;33m=\u001b[0m \u001b[0mpd\u001b[0m\u001b[1;33m.\u001b[0m\u001b[0mto_numeric\u001b[0m\u001b[1;33m(\u001b[0m\u001b[0mdf\u001b[0m\u001b[1;33m.\u001b[0m\u001b[0mSecurity\u001b[0m\u001b[1;33m,\u001b[0m \u001b[0merrors\u001b[0m \u001b[1;33m=\u001b[0m \u001b[1;34m'coerce'\u001b[0m\u001b[1;33m)\u001b[0m\u001b[1;33m.\u001b[0m\u001b[0mfillna\u001b[0m\u001b[1;33m(\u001b[0m\u001b[1;36m0\u001b[0m\u001b[1;33m)\u001b[0m\u001b[1;33m.\u001b[0m\u001b[0mastype\u001b[0m\u001b[1;33m(\u001b[0m\u001b[0mnp\u001b[0m\u001b[1;33m.\u001b[0m\u001b[0mint64\u001b[0m\u001b[1;33m)\u001b[0m\u001b[1;33m\u001b[0m\u001b[0m\n\u001b[0;32m      9\u001b[0m \u001b[0mdf\u001b[0m\u001b[1;33m.\u001b[0m\u001b[0mPrivacy\u001b[0m \u001b[1;33m=\u001b[0m \u001b[0mpd\u001b[0m\u001b[1;33m.\u001b[0m\u001b[0mto_numeric\u001b[0m\u001b[1;33m(\u001b[0m\u001b[0mdf\u001b[0m\u001b[1;33m.\u001b[0m\u001b[0mPrivacy\u001b[0m\u001b[1;33m,\u001b[0m \u001b[0merrors\u001b[0m \u001b[1;33m=\u001b[0m \u001b[1;34m'coerce'\u001b[0m\u001b[1;33m)\u001b[0m\u001b[1;33m.\u001b[0m\u001b[0mfillna\u001b[0m\u001b[1;33m(\u001b[0m\u001b[1;36m0\u001b[0m\u001b[1;33m)\u001b[0m\u001b[1;33m.\u001b[0m\u001b[0mastype\u001b[0m\u001b[1;33m(\u001b[0m\u001b[0mnp\u001b[0m\u001b[1;33m.\u001b[0m\u001b[0mint64\u001b[0m\u001b[1;33m)\u001b[0m\u001b[1;33m\u001b[0m\u001b[0m\n",
      "\u001b[1;32m~\\Anaconda3\\lib\\site-packages\\pandas\\core\\generic.py\u001b[0m in \u001b[0;36m__getattr__\u001b[1;34m(self, name)\u001b[0m\n\u001b[0;32m   3079\u001b[0m             \u001b[1;32mif\u001b[0m \u001b[0mname\u001b[0m \u001b[1;32min\u001b[0m \u001b[0mself\u001b[0m\u001b[1;33m.\u001b[0m\u001b[0m_info_axis\u001b[0m\u001b[1;33m:\u001b[0m\u001b[1;33m\u001b[0m\u001b[0m\n\u001b[0;32m   3080\u001b[0m                 \u001b[1;32mreturn\u001b[0m \u001b[0mself\u001b[0m\u001b[1;33m[\u001b[0m\u001b[0mname\u001b[0m\u001b[1;33m]\u001b[0m\u001b[1;33m\u001b[0m\u001b[0m\n\u001b[1;32m-> 3081\u001b[1;33m             \u001b[1;32mreturn\u001b[0m \u001b[0mobject\u001b[0m\u001b[1;33m.\u001b[0m\u001b[0m__getattribute__\u001b[0m\u001b[1;33m(\u001b[0m\u001b[0mself\u001b[0m\u001b[1;33m,\u001b[0m \u001b[0mname\u001b[0m\u001b[1;33m)\u001b[0m\u001b[1;33m\u001b[0m\u001b[0m\n\u001b[0m\u001b[0;32m   3082\u001b[0m \u001b[1;33m\u001b[0m\u001b[0m\n\u001b[0;32m   3083\u001b[0m     \u001b[1;32mdef\u001b[0m \u001b[0m__setattr__\u001b[0m\u001b[1;33m(\u001b[0m\u001b[0mself\u001b[0m\u001b[1;33m,\u001b[0m \u001b[0mname\u001b[0m\u001b[1;33m,\u001b[0m \u001b[0mvalue\u001b[0m\u001b[1;33m)\u001b[0m\u001b[1;33m:\u001b[0m\u001b[1;33m\u001b[0m\u001b[0m\n",
      "\u001b[1;31mAttributeError\u001b[0m: 'DataFrame' object has no attribute 'Safety'"
     ]
    }
   ],
   "source": [
    "df = pd.read_csv(\"relevantsurveydata.csv\")\n",
    "df = df.rename(columns ={\"Price:You're planning on buying your next cool new tech toy. Maybe it's a smart TV or a new smartphone. Take a look at the items below and arrange them in order of importance as you make that purchase.\": \"Price\", \"Features:You're planning on buying your next cool new tech toy. Maybe it's a smart TV or a new smartphone. Take a look at the items below and arrange them in order of importance as you make that purchase.\": \"Features\", \"Safety:You're planning on buying your next cool new tech toy. Maybe it's a smart TV or a new smartphone. Take a look at the items below and arrange them in order of importance as you mam in order of importance as you make that purcke that purchase.\": \"Safety\", \"Security:You're planning on buying your next cool new tech toy. Maybe it's a smart TV or a new smartphone. Take a look at the items below and arrange them in order of importance as you make that purchase.\": \"Security\", \"Privacy:You're planning on buying your next cool new tech toy. Maybe it's a smart TV or a new smartphone. Take a look at the items below and arrange them in order of importance as you make that purchase.\": \"Privacy\", \"Reliability:You're planning on buying your next cool new tech toy. Maybe it's a smart TV or a new smartphone. Take a look at the items below and arrange them in order of importance as you make that purchase.\": \"Reliability\", \"User Reviews:You're planning on buying your next cool new tech toy. Maybe it's a smart TV or a new smartphone. Take a look at the items below and arrange them in order of importance as you make that purchase.\": \"UserReviews\", \"Expert Recommendation:You're planning on buying your next cool new tech toy. Maybe it's a smart TV or a new smartphone. Take a look at the items below and arrange them in order of importance as you make that purchase.\": \"ExpertRecommendation\", \"Friend or Family Recommendation:You're planning on buying your next cool new tech toy. Maybe it's a smart TV or a new smartphone. Take a look at the items below and arrange them in order of importance as you make that purchase.\": \"FriendorFamilyRecommendation\", \"Convenience:You're planning on buying your next cool new tech toy. Maybe it's a smart TV or a new smartphone. Take a look at the items below and arrange them in order of importance as you make that purchase.\": \"Convenience\"})\n",
    "df.info()\n",
    "#df = df[['Price','Features','Safety','Security','Privacy','Reliability','UserReviews','ExpertRecommendation','FriendorFamilyRecommendation','Convenience']]\n",
    "df.Price = pd.to_numeric(df.Price, errors = 'coerce').fillna(0).astype(np.int64)\n",
    "df.Features = pd.to_numeric(df.Features, errors = 'coerce').fillna(0).astype(np.int64)\n",
    "df.Safety = pd.to_numeric(df.Safety, errors = 'coerce').fillna(0).astype(np.int64)\n",
    "df.Security = pd.to_numeric(df.Security, errors = 'coerce').fillna(0).astype(np.int64)\n",
    "df.Privacy = pd.to_numeric(df.Privacy, errors = 'coerce').fillna(0).astype(np.int64)\n",
    "df.Reliability = pd.to_numeric(df.Reliability, errors = 'coerce').fillna(0).astype(np.int64)\n",
    "df.UserReviews = pd.to_numeric(df.UserReviews, errors = 'coerce').fillna(0).astype(np.int64)\n",
    "df.ExpertRecommendation = pd.to_numeric(df.ExpertRecommendation, errors = 'coerce').fillna(0).astype(np.int64)\n",
    "df.FriendorFamilyRecommendation = pd.to_numeric(df.FriendorFamilyRecommendation, errors = 'coerce').fillna(0).astype(np.int64)\n",
    "df.Convenience = pd.to_numeric(df.Convenience, errors = 'coerce').fillna(0).astype(np.int64)\n",
    "\n",
    "cols = [\"Price\",\"Features\",\"Safety\",\"Security\",\"Privacy\",\"Reliability\",\"UserReviews\",\"ExpertRecommendation\", \"FriendorFamilyRecommendation\", \"Convenience\"]\n",
    "\n",
    "y_pos = np.arange(len(cols))\n",
    "\n",
    "#vals = np.array([np.mean((df[\"Price\"]).astype(np.float)), np.mean((df[\"Features\"]).astype(np.float)), np.mean((df[\"Safety\"]).astype(np.float)), np.mean((df[\"Security\"]).astype(np.float)), np.mean((df[\"Privacy\"]).astype(np.float)), np.mean((df[\"Reliability\"]).astype(np.float)), np.mean((df[\"UserReviews\"]).astype(np.float)), np.mean((df[\"ExpertRecommendation\"]).astype(np.float)), np.mean((df[\"FriendorFamilyRecommendation\"]).astype(np.float)), np.mean((df[\"Convenience\"]).astype(np.float))])\n",
    "\n",
    "data = {'cols' : cols,\n",
    "        'Mean' : [np.mean((df[\"Price\"]).astype(np.float)), np.mean((df[\"Features\"]).astype(np.float)), np.mean((df[\"Safety\"]).astype(np.float)),np.mean((df[\"Security\"]).astype(np.float)), np.mean((df[\"Privacy\"]).astype(np.float)), np.mean((df[\"Reliability\"]).astype(np.float)), np.mean((df[\"UserReviews\"]).astype(np.float)), np.mean((df[\"ExpertRecommendation\"]).astype(np.float)), np.mean((df[\"FriendorFamilyRecommendation\"]).astype(np.float)), np.mean((df[\"Convenience\"]).astype(np.float))]}\n",
    "\n",
    "source = ColumnDataSource(data = data)\n",
    "\n",
    "p = figure(x_range = cols, x_axis_label = \"Items\", y_range=(0,6), y_axis_label= \"Mean Score\", plot_height = 600, title = \"Mean Score of Each Item\", toolbar_location = None, tools = \"\")\n",
    "p.vbar(x=dodge('cols', 0 , range=p.x_range), top = \"Mean\", width = 0.4, source = source, color = \"#000080\", legend = value('Mean'))\n",
    "p.y_range.start = 0\n",
    "p.x_range.range_padding = 0.1\n",
    "p.xaxis.major_label_orientation = np.pi/2.2\n",
    "p.xgrid.grid_line_color = \"Black\"\n",
    "p.outline_line_color = None\n",
    "p.legend.location = \"top_left\"\n",
    "p.legend.orientation = \"horizontal\"\n",
    "p.add_tools(HoverTool(tooltips=[(\"Mean\", \"@Mean\")]))\n",
    "show(p)\n",
    "#plt.bar(y_pos, vals, align=\"center\", alpha=0.5, edgecolor = \"black\", color = \"blue\")\n",
    "#fig = plt.gcf()\n",
    "#plot_url= py.plot_mpl(fig, filename='Mean score for each item')\n",
    "#plt.xticks(y_pos,cols,  rotation = \"75\")\n",
    "#plt.ylabel('Mean Score')\n",
    "#plt.title(\"Mean Score by each Item\")\n",
    "#plt.show()"
   ]
  }
 ],
 "metadata": {
  "kernelspec": {
   "display_name": "Python 3",
   "language": "python",
   "name": "python3"
  },
  "language_info": {
   "codemirror_mode": {
    "name": "ipython",
    "version": 3
   },
   "file_extension": ".py",
   "mimetype": "text/x-python",
   "name": "python",
   "nbconvert_exporter": "python",
   "pygments_lexer": "ipython3",
   "version": "3.6.3"
  }
 },
 "nbformat": 4,
 "nbformat_minor": 2
}
